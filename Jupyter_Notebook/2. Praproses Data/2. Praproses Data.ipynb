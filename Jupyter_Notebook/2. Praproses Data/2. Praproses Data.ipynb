{
 "cells": [
  {
   "cell_type": "markdown",
   "id": "81284ba7",
   "metadata": {},
   "source": [
    "# 2. Praproses Dataset CSE-CIC-IDS2018"
   ]
  },
  {
   "cell_type": "markdown",
   "id": "2ca87ba2",
   "metadata": {},
   "source": [
    "## Import Library & Load Dataset"
   ]
  },
  {
   "cell_type": "markdown",
   "id": "1fc6affd",
   "metadata": {},
   "source": [
    "#### 1. Import Library"
   ]
  },
  {
   "cell_type": "code",
   "execution_count": 1,
   "id": "604ccd6f",
   "metadata": {},
   "outputs": [],
   "source": [
    "import numpy as np \n",
    "import pandas as pd \n",
    "import os\n",
    "\n",
    "import matplotlib.pyplot as plt\n",
    "import seaborn as sns\n",
    "import time\n",
    "import datetime\n",
    "import re\n",
    "\n",
    "from numpy import array\n",
    "from sklearn import preprocessing\n",
    "from sklearn.preprocessing import LabelEncoder\n",
    "\n",
    "# Menampilkan lebih banyak kolom dan baris pada Dataset\n",
    "pd.set_option('display.max_rows', 1000)\n",
    "pd.set_option('display.max_columns', None)"
   ]
  },
  {
   "cell_type": "markdown",
   "id": "bd37714c",
   "metadata": {},
   "source": [
    "#### 2. Tipe dataset yang digunakan"
   ]
  },
  {
   "cell_type": "code",
   "execution_count": 2,
   "id": "6eceacd4",
   "metadata": {},
   "outputs": [],
   "source": [
    "tipe_dataset = {'Dst Port': 'uint32', 'Protocol': 'uint8', 'Timestamp': 'object', 'Flow Duration': 'int64', 'Tot Fwd Pkts': 'uint32', 'Tot Bwd Pkts': 'uint32', 'TotLen Fwd Pkts': 'uint32', 'TotLen Bwd Pkts': 'uint32', 'Fwd Pkt Len Max': 'uint16', 'Fwd Pkt Len Min': 'uint16', 'Fwd Pkt Len Mean': 'float32', 'Fwd Pkt Len Std': 'float32', 'Bwd Pkt Len Max': 'uint16', 'Bwd Pkt Len Min': 'uint16', 'Bwd Pkt Len Mean': 'float32', 'Bwd Pkt Len Std': 'float32', 'Flow Byts/s': 'float64', 'Flow Pkts/s': 'float64', 'Flow IAT Mean': 'float32', 'Flow IAT Std': 'float32',\n",
    " 'Flow IAT Max': 'int64', 'Flow IAT Min': 'int64', 'Fwd IAT Tot': 'int64', 'Fwd IAT Mean': 'float32', 'Fwd IAT Std': 'float32', 'Fwd IAT Max': 'int64', 'Fwd IAT Min': 'int64', 'Bwd IAT Tot': 'uint32', 'Bwd IAT Mean': 'float32', 'Bwd IAT Std': 'float32', 'Bwd IAT Max': 'uint32', 'Bwd IAT Min': 'uint32', 'Fwd PSH Flags': 'uint8', 'Bwd PSH Flags': 'uint8', 'Fwd URG Flags': 'uint8', 'Bwd URG Flags': 'uint8', 'Fwd Header Len': 'uint32', 'Bwd Header Len': 'uint32', 'Fwd Pkts/s': 'float32', 'Bwd Pkts/s': 'float32',\n",
    " 'Pkt Len Min': 'uint16', 'Pkt Len Max': 'uint16', 'Pkt Len Mean': 'float32', 'Pkt Len Std': 'float32', 'Pkt Len Var': 'float32', 'FIN Flag Cnt': 'uint8', 'SYN Flag Cnt': 'uint8', 'RST Flag Cnt': 'uint8', 'PSH Flag Cnt': 'uint8', 'ACK Flag Cnt': 'uint8', 'URG Flag Cnt': 'uint8', 'CWE Flag Count': 'uint8', 'ECE Flag Cnt': 'uint8', 'Down/Up Ratio': 'uint16', 'Pkt Size Avg': 'float32', 'Fwd Seg Size Avg': 'float32', 'Bwd Seg Size Avg': 'float32', 'Fwd Byts/b Avg': 'uint8', 'Fwd Pkts/b Avg': 'uint8', 'Fwd Blk Rate Avg': 'uint8',\n",
    " 'Bwd Byts/b Avg': 'uint8', 'Bwd Pkts/b Avg': 'uint8', 'Bwd Blk Rate Avg': 'uint8', 'Subflow Fwd Pkts': 'uint32', 'Subflow Fwd Byts': 'uint32', 'Subflow Bwd Pkts': 'uint32', 'Subflow Bwd Byts': 'uint32', 'Init Fwd Win Byts': 'int32', 'Init Bwd Win Byts': 'int32', 'Fwd Act Data Pkts': 'uint32', 'Fwd Seg Size Min': 'uint8', 'Active Mean': 'float32', 'Active Std': 'float32', 'Active Max': 'uint32', 'Active Min': 'uint32', 'Idle Mean': 'float32', 'Idle Std': 'float32', 'Idle Max': 'uint64', 'Idle Min': 'uint64', 'Label': 'category'}\n"
   ]
  },
  {
   "cell_type": "markdown",
   "id": "ee8b5774",
   "metadata": {},
   "source": [
    "#### 3. 'Load' Dataset CIC-IDS2018"
   ]
  },
  {
   "cell_type": "code",
   "execution_count": 3,
   "id": "5e499d54",
   "metadata": {},
   "outputs": [
    {
     "name": "stdout",
     "output_type": "stream",
     "text": [
      "Waktu load dataset :  205.05813789367676\n"
     ]
    }
   ],
   "source": [
    "# Load Data\n",
    "m_load = time.time()\n",
    "dataset = pd.read_csv(\"G:\\\\Universitas Indonesia\\\\Rancangan Paper\\\\Dataset CSE-CIC-IDS2018-AWS\\\\CIC2018\\\\CIC2018.csv\", dtype = tipe_dataset, low_memory=False)\n",
    "s_load = time.time()\n",
    "print ('Waktu load dataset : ', s_load - m_load)"
   ]
  },
  {
   "cell_type": "code",
   "execution_count": 4,
   "id": "63520efb",
   "metadata": {},
   "outputs": [
    {
     "name": "stdout",
     "output_type": "stream",
     "text": [
      "Konversi nama fitur menjadi huruf kecil\n",
      "=======================================\n",
      "['dst_port', 'protocol', 'timestamp', 'flow_duration', 'tot_fwd_pkts', 'tot_bwd_pkts', 'totlen_fwd_pkts', 'totlen_bwd_pkts', 'fwd_pkt_len_max', 'fwd_pkt_len_min', 'fwd_pkt_len_mean', 'fwd_pkt_len_std', 'bwd_pkt_len_max', 'bwd_pkt_len_min', 'bwd_pkt_len_mean', 'bwd_pkt_len_std', 'flow_byts_s', 'flow_pkts_s', 'flow_iat_mean', 'flow_iat_std', 'flow_iat_max', 'flow_iat_min', 'fwd_iat_tot', 'fwd_iat_mean', 'fwd_iat_std', 'fwd_iat_max', 'fwd_iat_min', 'bwd_iat_tot', 'bwd_iat_mean', 'bwd_iat_std', 'bwd_iat_max', 'bwd_iat_min', 'fwd_psh_flags', 'bwd_psh_flags', 'fwd_urg_flags', 'bwd_urg_flags', 'fwd_header_len', 'bwd_header_len', 'fwd_pkts_s', 'bwd_pkts_s', 'pkt_len_min', 'pkt_len_max', 'pkt_len_mean', 'pkt_len_std', 'pkt_len_var', 'fin_flag_cnt', 'syn_flag_cnt', 'rst_flag_cnt', 'psh_flag_cnt', 'ack_flag_cnt', 'urg_flag_cnt', 'cwe_flag_count', 'ece_flag_cnt', 'down_up_ratio', 'pkt_size_avg', 'fwd_seg_size_avg', 'bwd_seg_size_avg', 'fwd_byts_b_avg', 'fwd_pkts_b_avg', 'fwd_blk_rate_avg', 'bwd_byts_b_avg', 'bwd_pkts_b_avg', 'bwd_blk_rate_avg', 'subflow_fwd_pkts', 'subflow_fwd_byts', 'subflow_bwd_pkts', 'subflow_bwd_byts', 'init_fwd_win_byts', 'init_bwd_win_byts', 'fwd_act_data_pkts', 'fwd_seg_size_min', 'active_mean', 'active_std', 'active_max', 'active_min', 'idle_mean', 'idle_std', 'idle_max', 'idle_min', 'label', 'flow_id', 'src_ip', 'src_port', 'dst_ip']\n"
     ]
    }
   ],
   "source": [
    "# ubah nama fitur(kolom) dataset ke 'lowercase'\n",
    "df_columns = dataset.columns\n",
    "df_fitur = [kata.lower() for kata in df_columns]\n",
    "df_columns = [kata.translate(str.maketrans(' /', '__')) for kata in df_fitur]\n",
    "dataset.columns = df_columns\n",
    "\n",
    "print ('Konversi nama fitur menjadi huruf kecil')\n",
    "print ('=======================================')\n",
    "print (df_columns)"
   ]
  },
  {
   "cell_type": "code",
   "execution_count": 5,
   "id": "402bf120",
   "metadata": {},
   "outputs": [
    {
     "data": {
      "text/plain": [
       "benign                      13484708\n",
       "ddos_attack_hoic              686012\n",
       "ddos_attacks_loic_http        576191\n",
       "dos_attacks_hulk              461912\n",
       "bot                           286191\n",
       "ftp_bruteforce                193360\n",
       "ssh_bruteforce                187589\n",
       "infilteration                 161934\n",
       "dos_attacks_slowhttptest      139890\n",
       "dos_attacks_goldeneye          41508\n",
       "dos_attacks_slowloris          10990\n",
       "ddos_attack_loic_udp            1730\n",
       "brute_force__web                 611\n",
       "brute_force__xss                 230\n",
       "sql_injection                     87\n",
       "Name: label, dtype: int64"
      ]
     },
     "execution_count": 5,
     "metadata": {},
     "output_type": "execute_result"
    }
   ],
   "source": [
    "# ubah nama kelas target(label) ke 'lowercase'\n",
    "df_label = dataset['label'].unique()\n",
    "df_target = [kata.lower() for kata in df_label]\n",
    "df_target = [kata.translate(str.maketrans(' /�-', '____')) for kata in df_target]\n",
    "dict_target = dict(zip(df_label, df_target))\n",
    "\n",
    "dataset['label'] = dataset['label'].map(lambda x: dict_target[x])\n",
    "dataset['label'].value_counts()"
   ]
  },
  {
   "cell_type": "code",
   "execution_count": 6,
   "id": "2cd32947",
   "metadata": {},
   "outputs": [
    {
     "name": "stdout",
     "output_type": "stream",
     "text": [
      "fitur timestamp sebelum di konversi\n",
      "===================================\n"
     ]
    },
    {
     "data": {
      "text/plain": [
       "0    02/03/2018 08:47:38\n",
       "1    02/03/2018 08:47:38\n",
       "2    02/03/2018 08:47:40\n",
       "3    02/03/2018 08:47:40\n",
       "4    02/03/2018 08:47:41\n",
       "Name: timestamp, dtype: object"
      ]
     },
     "execution_count": 6,
     "metadata": {},
     "output_type": "execute_result"
    }
   ],
   "source": [
    "print ('fitur timestamp sebelum di konversi')\n",
    "print ('===================================')\n",
    "dataset['timestamp'].head()"
   ]
  },
  {
   "cell_type": "code",
   "execution_count": 7,
   "id": "1d344b07",
   "metadata": {},
   "outputs": [],
   "source": [
    "# konversi waktu pada fitur 'timestamp' ke 'unix time'\n",
    "timestamp = pd.to_datetime(dataset['timestamp'])\n",
    "dataset['timestamp'] = (timestamp - pd.Timestamp(\"1970-01-01\")) // pd.Timedelta('1s')"
   ]
  },
  {
   "cell_type": "code",
   "execution_count": 8,
   "id": "87b1f885",
   "metadata": {},
   "outputs": [
    {
     "name": "stdout",
     "output_type": "stream",
     "text": [
      "fitur 'timestamp' setelah di konversi ke 'unix time'\n",
      "====================================================\n"
     ]
    },
    {
     "data": {
      "text/plain": [
       "0    1517647658\n",
       "1    1517647658\n",
       "2    1517647660\n",
       "3    1517647660\n",
       "4    1517647661\n",
       "Name: timestamp, dtype: int64"
      ]
     },
     "execution_count": 8,
     "metadata": {},
     "output_type": "execute_result"
    }
   ],
   "source": [
    "print (\"fitur 'timestamp' setelah di konversi ke 'unix time'\")\n",
    "print ('====================================================')\n",
    "dataset['timestamp'].head()"
   ]
  },
  {
   "cell_type": "markdown",
   "id": "4f0fa645",
   "metadata": {},
   "source": [
    "## Praproses Data"
   ]
  },
  {
   "cell_type": "markdown",
   "id": "23960b8c",
   "metadata": {},
   "source": [
    "#### 1. Hapus sampel dengan fitur Protokol '0'"
   ]
  },
  {
   "cell_type": "code",
   "execution_count": 9,
   "id": "ff2dea3a",
   "metadata": {},
   "outputs": [
    {
     "data": {
      "text/html": [
       "<div>\n",
       "<style scoped>\n",
       "    .dataframe tbody tr th:only-of-type {\n",
       "        vertical-align: middle;\n",
       "    }\n",
       "\n",
       "    .dataframe tbody tr th {\n",
       "        vertical-align: top;\n",
       "    }\n",
       "\n",
       "    .dataframe thead th {\n",
       "        text-align: right;\n",
       "    }\n",
       "</style>\n",
       "<table border=\"1\" class=\"dataframe\">\n",
       "  <thead>\n",
       "    <tr style=\"text-align: right;\">\n",
       "      <th></th>\n",
       "      <th>protocol</th>\n",
       "      <th>Persentase(%)</th>\n",
       "    </tr>\n",
       "  </thead>\n",
       "  <tbody>\n",
       "    <tr>\n",
       "      <th>6</th>\n",
       "      <td>11800335</td>\n",
       "      <td>72.693750</td>\n",
       "    </tr>\n",
       "    <tr>\n",
       "      <th>17</th>\n",
       "      <td>4194295</td>\n",
       "      <td>25.838167</td>\n",
       "    </tr>\n",
       "    <tr>\n",
       "      <th>0</th>\n",
       "      <td>238313</td>\n",
       "      <td>1.468083</td>\n",
       "    </tr>\n",
       "  </tbody>\n",
       "</table>\n",
       "</div>"
      ],
      "text/plain": [
       "    protocol  Persentase(%)\n",
       "6   11800335      72.693750\n",
       "17   4194295      25.838167\n",
       "0     238313       1.468083"
      ]
     },
     "execution_count": 9,
     "metadata": {},
     "output_type": "execute_result"
    },
    {
     "data": {
      "image/png": "[encoded data removed]",
      "text/plain": [
       "<Figure size 504x360 with 1 Axes>"
      ]
     },
     "metadata": {
      "needs_background": "light"
     },
     "output_type": "display_data"
    }
   ],
   "source": [
    " # distribusi fitur 'protocol'\n",
    "protokol = pd.DataFrame(dataset['protocol'].value_counts())\n",
    "f, ax = plt.subplots(figsize=(7, 5))\n",
    "sns.countplot(x='protocol', data=dataset, order = protokol.index, ax=ax)\n",
    "plt.title('Distribusi Protokol')\n",
    "\n",
    "protokol['Persentase(%)'] = protokol / protokol.sum()*100\n",
    "protokol"
   ]
  },
  {
   "cell_type": "code",
   "execution_count": 10,
   "id": "97b8b756",
   "metadata": {},
   "outputs": [],
   "source": [
    "# pisah dataset protokol '0' dan protool '17 & 6'\n",
    "data_proto_0 = dataset.loc[dataset['protocol'] == 0]\n",
    "dataset = dataset.loc[dataset['protocol'] != 0]"
   ]
  },
  {
   "cell_type": "code",
   "execution_count": 11,
   "id": "dae94b2c",
   "metadata": {},
   "outputs": [
    {
     "data": {
      "text/plain": [
       "benign                      235779\n",
       "infilteration                 2255\n",
       "bot                            258\n",
       "brute_force__web                21\n",
       "brute_force__xss                 0\n",
       "ddos_attack_hoic                 0\n",
       "ddos_attack_loic_udp             0\n",
       "ddos_attacks_loic_http           0\n",
       "dos_attacks_goldeneye            0\n",
       "dos_attacks_hulk                 0\n",
       "dos_attacks_slowhttptest         0\n",
       "dos_attacks_slowloris            0\n",
       "ftp_bruteforce                   0\n",
       "sql_injection                    0\n",
       "ssh_bruteforce                   0\n",
       "Name: label, dtype: int64"
      ]
     },
     "execution_count": 11,
     "metadata": {},
     "output_type": "execute_result"
    }
   ],
   "source": [
    "# distribusi fitur protokol '0' pada kelas target\n",
    "data_proto_0['label'].value_counts()"
   ]
  },
  {
   "cell_type": "code",
   "execution_count": 12,
   "id": "fdb14419",
   "metadata": {},
   "outputs": [
    {
     "name": "stdout",
     "output_type": "stream",
     "text": [
      "                fitur  Hanya memiliki nilai  Jumlah\n",
      "0            dst_port                   0.0  238313\n",
      "1            protocol                   0.0  238313\n",
      "2     totlen_fwd_pkts                   0.0  238313\n",
      "3     totlen_bwd_pkts                   0.0  238313\n",
      "4     fwd_pkt_len_max                   0.0  238313\n",
      "5     fwd_pkt_len_min                   0.0  238313\n",
      "6    fwd_pkt_len_mean                   0.0  238313\n",
      "7     fwd_pkt_len_std                   0.0  238313\n",
      "8     bwd_pkt_len_max                   0.0  238313\n",
      "9     bwd_pkt_len_min                   0.0  238313\n",
      "10   bwd_pkt_len_mean                   0.0  238313\n",
      "11    bwd_pkt_len_std                   0.0  238313\n",
      "12        flow_byts_s                   0.0  238312\n",
      "13      fwd_psh_flags                   0.0  238313\n",
      "14      bwd_psh_flags                   0.0  238313\n",
      "15      fwd_urg_flags                   0.0  238313\n",
      "16      bwd_urg_flags                   0.0  238313\n",
      "17     fwd_header_len                   0.0  238313\n",
      "18     bwd_header_len                   0.0  238313\n",
      "19        pkt_len_min                   0.0  238313\n",
      "20        pkt_len_max                   0.0  238313\n",
      "21       pkt_len_mean                   0.0  238313\n",
      "22        pkt_len_std                   0.0  238313\n",
      "23        pkt_len_var                   0.0  238313\n",
      "24       fin_flag_cnt                   0.0  238313\n",
      "25       syn_flag_cnt                   0.0  238313\n",
      "26       rst_flag_cnt                   0.0  238313\n",
      "27       psh_flag_cnt                   0.0  238313\n",
      "28       ack_flag_cnt                   0.0  238313\n",
      "29       urg_flag_cnt                   0.0  238313\n",
      "30     cwe_flag_count                   0.0  238313\n",
      "31       ece_flag_cnt                   0.0  238313\n",
      "32       pkt_size_avg                   0.0  238313\n",
      "33   fwd_seg_size_avg                   0.0  238313\n",
      "34   bwd_seg_size_avg                   0.0  238313\n",
      "35     fwd_byts_b_avg                   0.0  238313\n",
      "36     fwd_pkts_b_avg                   0.0  238313\n",
      "37   fwd_blk_rate_avg                   0.0  238313\n",
      "38     bwd_byts_b_avg                   0.0  238313\n",
      "39     bwd_pkts_b_avg                   0.0  238313\n",
      "40   bwd_blk_rate_avg                   0.0  238313\n",
      "41   subflow_fwd_byts                   0.0  238313\n",
      "42   subflow_bwd_byts                   0.0  238313\n",
      "43  init_fwd_win_byts                  -1.0  238313\n",
      "44  init_bwd_win_byts                  -1.0  238313\n",
      "45  fwd_act_data_pkts                   0.0  238313\n",
      "46   fwd_seg_size_min                   0.0  238313\n",
      "47           src_port                   0.0  144132\n"
     ]
    }
   ],
   "source": [
    "#################################################\n",
    "# nilai pada masing - masing fitur berdasarkan  #\n",
    "# sampel dari fitur 'protocol' yang bernilai 0  #\n",
    "#################################################\n",
    "\n",
    "std = data_proto_0.describe().loc['std']\n",
    "fitur_tidak_ada_varian = std[std == 0.0].index\n",
    "fitur_tidak_memiliki_varian = pd.DataFrame({'fitur': std[std == 0.0].index})\n",
    "varian_nilai = []\n",
    "for i in fitur_tidak_ada_varian:\n",
    "    varian_nilai.append(data_proto_0[i].value_counts())\n",
    "\n",
    "jumlah_varian = pd.DataFrame(pd.concat(varian_nilai), \n",
    "                              columns = ['Jumlah']).rename_axis('Hanya memiliki nilai').reset_index()\n",
    "fitur_ = pd.concat([fitur_tidak_memiliki_varian, jumlah_varian], axis=1)\n",
    "print (fitur_)"
   ]
  },
  {
   "cell_type": "markdown",
   "id": "5fe853d5",
   "metadata": {},
   "source": [
    "#### 2. Mengganti nilai 'inf' dengan 'NaN'"
   ]
  },
  {
   "cell_type": "code",
   "execution_count": 13,
   "id": "eb03f56f",
   "metadata": {},
   "outputs": [
    {
     "data": {
      "text/plain": [
       "array([      0,       0,       0,       0,       0,       0,       0,\n",
       "             0,       0,       0,       0,       0,       0,       0,\n",
       "             0,       0,   59720,       0,       0,       0,       0,\n",
       "             0,       0,       0,       0,       0,       0,       0,\n",
       "             0,       0,       0,       0,       0,       0,       0,\n",
       "             0,       0,       0,       0,       0,       0,       0,\n",
       "             0,       0,       0,       0,       0,       0,       0,\n",
       "             0,       0,       0,       0,       0,       0,       0,\n",
       "             0,       0,       0,       0,       0,       0,       0,\n",
       "             0,       0,       0,       0,       0,       0,       0,\n",
       "             0,       0,       0,       0,       0,       0,       0,\n",
       "             0,       0,       0, 8190014, 8190014, 8190014, 8190014],\n",
       "      dtype=int64)"
      ]
     },
     "execution_count": 13,
     "metadata": {},
     "output_type": "execute_result"
    }
   ],
   "source": [
    "# Menghitung 'NaN' dalam dataset\n",
    "dataset.isnull().sum().to_numpy()"
   ]
  },
  {
   "cell_type": "code",
   "execution_count": 14,
   "id": "8a37cb40",
   "metadata": {},
   "outputs": [
    {
     "data": {
      "text/plain": [
       "array([      0,       0,       0,       0,       0,       0,       0,\n",
       "             0,       0,       0,       0,       0,       0,       0,\n",
       "             0,       0,   95759,   95759,       0,       0,       0,\n",
       "             0,       0,       0,       0,       0,       0,       0,\n",
       "             0,       0,       0,       0,       0,       0,       0,\n",
       "             0,       0,       0,       0,       0,       0,       0,\n",
       "             0,       0,       0,       0,       0,       0,       0,\n",
       "             0,       0,       0,       0,       0,       0,       0,\n",
       "             0,       0,       0,       0,       0,       0,       0,\n",
       "             0,       0,       0,       0,       0,       0,       0,\n",
       "             0,       0,       0,       0,       0,       0,       0,\n",
       "             0,       0,       0, 8190014, 8190014, 8190014, 8190014],\n",
       "      dtype=int64)"
      ]
     },
     "execution_count": 14,
     "metadata": {},
     "output_type": "execute_result"
    }
   ],
   "source": [
    "# Mengganti nilai 'inf' dengan 'NaN'\n",
    "dataset = dataset.replace([np.inf, -np.inf], np.nan)\n",
    "\n",
    "# Menghitung ulang 'NaN' dalam dataset\n",
    "dataset.isnull().sum().to_numpy()"
   ]
  },
  {
   "cell_type": "code",
   "execution_count": 15,
   "id": "acc8a39c",
   "metadata": {},
   "outputs": [
    {
     "data": {
      "text/plain": [
       "['flow_byts_s', 'flow_pkts_s', 'flow_id', 'src_ip', 'src_port', 'dst_ip']"
      ]
     },
     "execution_count": 15,
     "metadata": {},
     "output_type": "execute_result"
    }
   ],
   "source": [
    "# fitur yang memiliki 'NaN'\n",
    "Fitur_NaN = dataset.columns[dataset.isnull().any()].tolist()\n",
    "Fitur_NaN"
   ]
  },
  {
   "cell_type": "markdown",
   "id": "312e69f6",
   "metadata": {},
   "source": [
    "#### 3. Menghapus fitur yang memiliki nilai NaN > 50%"
   ]
  },
  {
   "cell_type": "code",
   "execution_count": 16,
   "id": "7f48408f",
   "metadata": {},
   "outputs": [
    {
     "name": "stdout",
     "output_type": "stream",
     "text": [
      "Jumlah 'NaN' dan persentase 'NaN'\n",
      "=================================\n",
      "         Fitur  Jumlah NaN  Persentase NaN %\n",
      "1  flow_byts_s       95759          0.598695\n",
      "2  flow_pkts_s       95759          0.598695\n",
      "3      flow_id     8190014         51.204773\n",
      "4       src_ip     8190014         51.204773\n",
      "5     src_port     8190014         51.204773\n",
      "6       dst_ip     8190014         51.204773\n"
     ]
    }
   ],
   "source": [
    "# Mengecek kolom yang berisi nilai NaN\n",
    "Fitur_NaN = dataset.columns[dataset.isnull().any()].tolist()\n",
    "\n",
    "# Cek total jumlah dan persentase nilai NaN\n",
    "print (\"Jumlah 'NaN' dan persentase 'NaN'\")\n",
    "print ('=================================')\n",
    "Persentase_NaN = pd.DataFrame({'Jumlah NaN': dataset[Fitur_NaN].isnull().sum(),\n",
    "                               'Persentase NaN %':dataset[Fitur_NaN].isnull().sum()/ len(dataset.index) * 100})\n",
    "Persentase_NaN = Persentase_NaN.reset_index().rename({'index':'Fitur'}, axis = 'columns')\n",
    "Persentase_NaN.index += 1\n",
    "print (Persentase_NaN)"
   ]
  },
  {
   "cell_type": "code",
   "execution_count": 17,
   "id": "2cce8aad",
   "metadata": {},
   "outputs": [
    {
     "name": "stdout",
     "output_type": "stream",
     "text": [
      "Sisa jumlah 'NaN' dan persentase 'NaN' dalam dataset\n",
      "====================================================\n",
      "         Fitur  Jumlah NaN  Persentase NaN\n",
      "1  flow_byts_s       95759        0.598695\n",
      "2  flow_pkts_s       95759        0.598695\n"
     ]
    }
   ],
   "source": [
    "# Hapus fitur yang memiliki nilai NaN > 50%\n",
    "dataset = dataset.drop(columns=['flow_id', 'src_ip', 'dst_ip', 'src_port'], errors='ignore')\n",
    "\n",
    "# Mengecek kolom yang berisi nilai NaN\n",
    "Fitur_NaN = dataset.columns[dataset.isnull().any()].tolist()\n",
    "\n",
    "# Cek total jumlah dan persentase nilai NaN\n",
    "print (\"Sisa jumlah 'NaN' dan persentase 'NaN' dalam dataset\")\n",
    "print ('====================================================')\n",
    "Persentase_NaN = pd.DataFrame({'Jumlah NaN': dataset[Fitur_NaN].isnull().sum(),\n",
    "                               'Persentase NaN':dataset[Fitur_NaN].isnull().sum()/ len(dataset.index) * 100})\n",
    "Persentase_NaN = Persentase_NaN.reset_index().rename({'index':'Fitur'}, axis = 'columns')\n",
    "Persentase_NaN.index += 1\n",
    "print (Persentase_NaN)"
   ]
  },
  {
   "cell_type": "markdown",
   "id": "77d661c3",
   "metadata": {},
   "source": [
    "#### 4. Hapus sampel dengan fitur 'flow_byts_s' dan 'flow_pkts_s' yang bernilai 'NaN'"
   ]
  },
  {
   "cell_type": "code",
   "execution_count": 18,
   "id": "e7285b7e",
   "metadata": {},
   "outputs": [],
   "source": [
    "# Menghapus sampel data yang memiliki 'NaN'\n",
    "dataset = dataset.dropna()"
   ]
  },
  {
   "cell_type": "code",
   "execution_count": 19,
   "id": "289251bd",
   "metadata": {},
   "outputs": [
    {
     "data": {
      "text/plain": [
       "array([0, 0, 0, 0, 0, 0, 0, 0, 0, 0, 0, 0, 0, 0, 0, 0, 0, 0, 0, 0, 0, 0,\n",
       "       0, 0, 0, 0, 0, 0, 0, 0, 0, 0, 0, 0, 0, 0, 0, 0, 0, 0, 0, 0, 0, 0,\n",
       "       0, 0, 0, 0, 0, 0, 0, 0, 0, 0, 0, 0, 0, 0, 0, 0, 0, 0, 0, 0, 0, 0,\n",
       "       0, 0, 0, 0, 0, 0, 0, 0, 0, 0, 0, 0, 0, 0], dtype=int64)"
      ]
     },
     "execution_count": 19,
     "metadata": {},
     "output_type": "execute_result"
    }
   ],
   "source": [
    "# Menghitung ulang 'NaN' dalam dataset\n",
    "dataset.isnull().sum().to_numpy()"
   ]
  },
  {
   "cell_type": "markdown",
   "id": "fec18233",
   "metadata": {},
   "source": [
    "#### 5. Hapus fitur yang hanya memiliki satu nilai/tidak memiliki varians"
   ]
  },
  {
   "cell_type": "code",
   "execution_count": 20,
   "id": "51082f5b",
   "metadata": {},
   "outputs": [
    {
     "name": "stdout",
     "output_type": "stream",
     "text": [
      "Fitur tidak memiliki varian nilai\n",
      "=================================\n",
      "              fitur  Hanya memiliki satu nilai  Jumlah sampel\n",
      "1     bwd_psh_flags                          0       15898871\n",
      "2     bwd_urg_flags                          0       15898871\n",
      "3    fwd_byts_b_avg                          0       15898871\n",
      "4    fwd_pkts_b_avg                          0       15898871\n",
      "5  fwd_blk_rate_avg                          0       15898871\n",
      "6    bwd_byts_b_avg                          0       15898871\n",
      "7    bwd_pkts_b_avg                          0       15898871\n",
      "8  bwd_blk_rate_avg                          0       15898871\n",
      "\n",
      "Jumlah fitur pada dataset : 79 fitur\n"
     ]
    }
   ],
   "source": [
    "# Cari fitur yang memiliki satu nilai atau tidak memiliki varians\n",
    "\n",
    "std = dataset.describe().loc['std']\n",
    "fitur_tidak_ada_varian = std[std == 0.0].index\n",
    "fitur_tidak_memiliki_varian = pd.DataFrame({'fitur': fitur_tidak_ada_varian})\n",
    "varian_nilai = []\n",
    "for i in fitur_tidak_ada_varian:\n",
    "    varian_nilai.append(dataset[i].value_counts())\n",
    "\n",
    "jumlah_varian = pd.DataFrame(pd.concat(varian_nilai), \n",
    "                columns = ['Jumlah sampel']).rename_axis('Hanya memiliki satu nilai').reset_index()\n",
    "fitur_ = pd.concat([fitur_tidak_memiliki_varian, jumlah_varian], axis=1)\n",
    "fitur_.index += 1\n",
    "print (\"Fitur tidak memiliki varian nilai\")\n",
    "print ('=================================')\n",
    "print (fitur_)\n",
    "print ('')\n",
    "print (f\"Jumlah fitur pada dataset : {dataset.shape[1]-1} fitur\")"
   ]
  },
  {
   "cell_type": "code",
   "execution_count": 21,
   "id": "29082f17",
   "metadata": {},
   "outputs": [
    {
     "name": "stdout",
     "output_type": "stream",
     "text": [
      "Sisa jumlah fitur pada dataset : 71 fitur\n"
     ]
    }
   ],
   "source": [
    "# Hapus fitur yang tidak memiliki varians\n",
    "dataset = dataset.drop(fitur_tidak_ada_varian, axis=1)\n",
    "print (f\"Sisa jumlah fitur pada dataset : {dataset.shape[1]-1} fitur\")"
   ]
  },
  {
   "cell_type": "markdown",
   "id": "417734d6",
   "metadata": {},
   "source": [
    "#### 6. Hapus salah satu fitur antara 2 fitur yang memiliki nilai  Koefisien Korelasi 1"
   ]
  },
  {
   "cell_type": "code",
   "execution_count": 22,
   "id": "7d009cea",
   "metadata": {},
   "outputs": [
    {
     "name": "stdout",
     "output_type": "stream",
     "text": [
      "Fitur yang memiliki koefisien korelasi 1\n",
      "========================================\n",
      "      fitur_kolom_i     fitur_kolom_j  koefisien_korelasi\n",
      "1     fwd_urg_flags    cwe_flag_count                 1.0\n",
      "2      tot_fwd_pkts  subflow_fwd_pkts                 1.0\n",
      "3   totlen_fwd_pkts  subflow_fwd_byts                 1.0\n",
      "4     fwd_psh_flags      syn_flag_cnt                 1.0\n",
      "5      tot_bwd_pkts  subflow_bwd_pkts                 1.0\n",
      "6  bwd_pkt_len_mean  bwd_seg_size_avg                 1.0\n",
      "7  fwd_pkt_len_mean  fwd_seg_size_avg                 1.0\n",
      "8   totlen_bwd_pkts  subflow_bwd_byts                 1.0\n",
      "\n",
      "Jumlah fitur pada dataset : 71 fitur\n"
     ]
    }
   ],
   "source": [
    "# koefisien korelasi pearson\n",
    "df_koef_kor_pearson = dataset.corr()\n",
    "# Fungsi koefisien korelasi bernilai 1\n",
    "def Koefisien_korelasi_1(df):\n",
    "    fitur_hapus = set()\n",
    "    kolom = df.columns\n",
    "    for i in range(df.shape[0]):\n",
    "        for j in range(0, i+1):\n",
    "            fitur_hapus.add((kolom[i], kolom[j]))         \n",
    "    korelasi_fitur = df.unstack().drop(fitur_hapus).sort_values(ascending=False)\n",
    "    korelasi_fitur = korelasi_fitur[korelasi_fitur >= 0.99999]\n",
    "    korelasi_fitur = pd.DataFrame({'koefisien_korelasi':korelasi_fitur}).reset_index()\n",
    "    korelasi_fitur = korelasi_fitur.rename(columns = {korelasi_fitur.columns[0]:'fitur_kolom_i',\n",
    "                                                      korelasi_fitur.columns[1]:'fitur_kolom_j'})\n",
    "    return korelasi_fitur\n",
    "# koefisien korelasi bernilai 1\n",
    "Koefisien_korelasi_1 = Koefisien_korelasi_1(df_koef_kor_pearson)\n",
    "Koefisien_korelasi_1.index += 1\n",
    "print ('Fitur yang memiliki koefisien korelasi 1')\n",
    "print ('========================================')\n",
    "print (Koefisien_korelasi_1); print (''); print (f\"Jumlah fitur pada dataset : {dataset.shape[1]-1} fitur\")"
   ]
  },
  {
   "cell_type": "code",
   "execution_count": 23,
   "id": "3c0e3f59",
   "metadata": {},
   "outputs": [
    {
     "name": "stdout",
     "output_type": "stream",
     "text": [
      "Sisa jumlah fitur pada dataset : 63 fitur\n"
     ]
    }
   ],
   "source": [
    "# Hapus salah satu fitur dari 2 fitur yang memiliki nilai Koefisien Korelasi 1\n",
    "dataset  = dataset.drop(Koefisien_korelasi_1['fitur_kolom_j'],axis=1)\n",
    "print (f\"Sisa jumlah fitur pada dataset : {dataset.shape[1]-1} fitur\")"
   ]
  },
  {
   "cell_type": "markdown",
   "id": "90f0583b",
   "metadata": {},
   "source": [
    "#### 7. 'save' dataset baru"
   ]
  },
  {
   "cell_type": "code",
   "execution_count": 74,
   "id": "f9cdb20d",
   "metadata": {},
   "outputs": [],
   "source": [
    "# simpan dataset baru dengan nama CSE_CIC_IDS2018_Praproses\n",
    "dataset.to_csv(\"G:\\\\Universitas Indonesia\\\\Rancangan Paper\\\\Dataset CSE-CIC-IDS2018-AWS\\\\CIC2018\\\\CSE_CIC_IDS2018_Praproses.csv\", index=False)"
   ]
  }
 ],
 "metadata": {
  "kernelspec": {
   "display_name": "Python 3 (ipykernel)",
   "language": "python",
   "name": "python3"
  },
  "language_info": {
   "codemirror_mode": {
    "name": "ipython",
    "version": 3
   },
   "file_extension": ".py",
   "mimetype": "text/x-python",
   "name": "python",
   "nbconvert_exporter": "python",
   "pygments_lexer": "ipython3",
   "version": "3.9.7"
  }
 },
 "nbformat": 4,
 "nbformat_minor": 5
}
