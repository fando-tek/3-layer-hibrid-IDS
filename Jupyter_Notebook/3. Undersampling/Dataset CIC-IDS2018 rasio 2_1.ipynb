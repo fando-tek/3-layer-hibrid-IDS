{
 "cells": [
  {
   "cell_type": "markdown",
   "id": "147a70ba",
   "metadata": {},
   "source": [
    "## Dataset CIC-IDS2018 Rasio 2:1"
   ]
  },
  {
   "cell_type": "markdown",
   "id": "5dde7627",
   "metadata": {},
   "source": [
    "### Impor library"
   ]
  },
  {
   "cell_type": "code",
   "execution_count": 1,
   "id": "ba13ea1a",
   "metadata": {},
   "outputs": [],
   "source": [
    "import numpy as np \n",
    "import pandas as pd \n",
    "import time\n",
    "\n",
    "# Near Miss under sampling\n",
    "from imblearn.under_sampling import NearMiss \n",
    "\n",
    "# save model\n",
    "import joblib\n",
    "\n",
    "import warnings\n",
    "warnings.filterwarnings('ignore')"
   ]
  },
  {
   "cell_type": "code",
   "execution_count": 2,
   "id": "6bf6f792",
   "metadata": {},
   "outputs": [],
   "source": [
    "# Tipe Dataset #\n",
    "# ============ #\n",
    "\n",
    "tipe_dataset = {'dst_port':'uint32','protocol':'uint8','timestamp':'uint64','flow_duration':'int64','tot_fwd_pkts':'uint32','tot_bwd_pkts':'uint32','totlen_fwd_pkts':'uint32','totlen_bwd_pkts':'uint32','fwd_pkt_len_max':'uint16','fwd_pkt_len_min':'uint16',\n",
    "'fwd_pkt_len_mean':'float32','fwd_pkt_len_std':'float32','bwd_pkt_len_max':'uint16','bwd_pkt_len_min':'uint16','bwd_pkt_len_mean':'float32','bwd_pkt_len_std':'float32','flow_byts_s':'float64','flow_pkts_s':'float64','flow_iat_mean':'float32','flow_iat_std':'float32',\n",
    "'flow_iat_max':'int64','flow_iat_min':'int64','fwd_iat_tot':'int64','fwd_iat_mean':'float32','fwd_iat_std':'float32','fwd_iat_max':'int64','fwd_iat_min':'int64','bwd_iat_tot':'uint32','bwd_iat_mean':'float32','bwd_iat_std':'float32',\n",
    "'bwd_iat_max':'uint32','bwd_iat_min':'uint32','fwd_psh_flags':'uint8','bwd_psh_flags':'uint8','fwd_urg_flags':'uint8','bwd_urg_flags':'uint8','fwd_header_len':'uint32','bwd_header_len':'uint32','fwd_pkts_s':'float32','bwd_pkts_s':'float32',\n",
    "'pkt_len_min':'uint16','pkt_len_max':'uint16','pkt_len_mean':'float32','pkt_len_std':'float32','pkt_len_var':'float32','fin_flag_cnt':'uint8','syn_flag_cnt':'uint8','rst_flag_cnt':'uint8','psh_flag_cnt':'uint8','ack_flag_cnt':'uint8',\n",
    "'urg_flag_cnt':'uint8','cwe_flag_count':'uint8','ece_flag_cnt':'uint8','down_up_ratio':'uint16','pkt_size_avg':'float32','fwd_seg_size_avg':'float32','bwd_seg_size_avg':'float32','fwd_byts_b_avg':'uint8','fwd_pkts_b_avg':'uint8','fwd_blk_rate_avg':'uint8',\n",
    "'bwd_byts_b_avg':'uint8','bwd_pkts_b_avg':'uint8','bwd_blk_rate_avg':'uint8','subflow_fwd_pkts':'uint32','subflow_fwd_byts':'uint32','subflow_bwd_pkts':'uint32','subflow_bwd_byts':'uint32','init_fwd_win_byts':'int32','init_bwd_win_byts':'int32','fwd_act_data_pkts':'uint32',\n",
    "'fwd_seg_size_min':'uint8','active_mean':'float32','active_std':'float32','active_max':'uint32','active_min':'uint32','idle_mean':'float32','idle_std':'float32','idle_max':'uint64','idle_min':'uint64','label':'category',\n",
    "'flow_id':'object','src_ip':'object','src_port':'float64','dst_ip':'object'}"
   ]
  },
  {
   "cell_type": "code",
   "execution_count": 3,
   "id": "808d4c83",
   "metadata": {},
   "outputs": [],
   "source": [
    "# Fungsi #\n",
    "# ====== #\n",
    "\n",
    "# bagi dataset menjadi variabel input X dan variabel output y\n",
    "def variabel_input_output(dataset, n, variabel_output):\n",
    "    X = dataset.iloc[:,:-n]\n",
    "    y = dataset[variabel_output]\n",
    "    return X, y"
   ]
  },
  {
   "cell_type": "markdown",
   "id": "03f3283f",
   "metadata": {},
   "source": [
    "### Load dataset"
   ]
  },
  {
   "cell_type": "code",
   "execution_count": 4,
   "id": "691c4620",
   "metadata": {},
   "outputs": [
    {
     "name": "stdout",
     "output_type": "stream",
     "text": [
      "Lama waktu memuat dataset :  100.61740565299988\n"
     ]
    }
   ],
   "source": [
    "# Load Dataset CIC-IDS2018 #\n",
    "# ======================== #\n",
    "\n",
    "m_load = time.time()\n",
    "dataset_cic2018 = pd.read_csv(\"G:\\\\Universitas Indonesia\\\\Rancangan Paper\\\\Dataset CSE-CIC-IDS2018-AWS\\\\CIC2018\\\\CSE_CIC_IDS2018_Praproses.csv\", dtype = tipe_dataset)\n",
    "s_load = time.time()\n",
    "print ('Lama waktu memuat dataset : ', s_load - m_load)"
   ]
  },
  {
   "cell_type": "code",
   "execution_count": 5,
   "id": "8a5173b7",
   "metadata": {},
   "outputs": [
    {
     "name": "stdout",
     "output_type": "stream",
     "text": [
      "Rasio kelas normal dan serangan sebelum 'under sampling'\n",
      "=======================================================\n",
      "jumlah sampel kelas normal dan serangan = 13154471 : 2744400\n",
      "Rasio kelas normal dan serangan         = 4.79 : 1\n"
     ]
    }
   ],
   "source": [
    "# Rasio kelas normal dan serangan sebelum 'under sampling' #\n",
    "# ======================================================== #\n",
    "\n",
    "jlh_target   = dataset_cic2018['label'].value_counts()\n",
    "jlh_normal   = jlh_target[0]\n",
    "jlh_serangan = sum(jlh_target[1:15])\n",
    "print (\"Rasio kelas normal dan serangan sebelum 'under sampling'\")\n",
    "print ('=======================================================')\n",
    "print (f'jumlah sampel kelas normal dan serangan = {jlh_normal} : {jlh_serangan}' )\n",
    "print (f'Rasio kelas normal dan serangan         = {round(jlh_normal/jlh_serangan,2)} : 1')"
   ]
  },
  {
   "cell_type": "markdown",
   "id": "6a0b5c5a",
   "metadata": {},
   "source": [
    "### Under sampling"
   ]
  },
  {
   "cell_type": "code",
   "execution_count": 6,
   "id": "1bbddd1e",
   "metadata": {},
   "outputs": [
    {
     "name": "stdout",
     "output_type": "stream",
     "text": [
      "Lama waktu 'under sampling' :  344.80740547180176\n"
     ]
    }
   ],
   "source": [
    "# Near Miss undersampling #\n",
    "# ======================= #\n",
    "\n",
    "# bagi dataset CIC-IDS2018 menjadi X dan y\n",
    "X_layer, y_layer = variabel_input_output(dataset_cic2018, 1, ['label'])\n",
    "\n",
    "# rasio 2:1 kelas normal dan serangan\n",
    "jlh_sampel = dataset_cic2018['label'].value_counts()\n",
    "jlh_serangan = sum(jlh_sampel[1:15])\n",
    "jlh_norm = jlh_serangan*2\n",
    "\n",
    "# nearmiss under sampling rasio 2:1\n",
    "m_under = time.time()\n",
    "nm = NearMiss(version=2, n_jobs = -1, sampling_strategy={'benign' : jlh_norm})\n",
    "X_layer, y_layer = nm.fit_resample(X_layer,y_layer)\n",
    "s_under = time.time()\n",
    "print (\"Lama waktu 'under sampling' : \", s_under - m_under)"
   ]
  },
  {
   "cell_type": "code",
   "execution_count": 7,
   "id": "3fd86211",
   "metadata": {},
   "outputs": [
    {
     "name": "stdout",
     "output_type": "stream",
     "text": [
      "Rasio kelas normal dan serangan setelah 'under sampling'\n",
      "========================================================\n",
      "jumlah sampel kelas normal dan serangan = 5488800 : 2744400\n",
      "Rasio kelas normal dan serangan         = 2.0 : 1\n"
     ]
    }
   ],
   "source": [
    "# Rasio kelas normal dan serangan setelah 'under sampling' #\n",
    "# ======================================================== #\n",
    "\n",
    "jlh_sampel = y_layer.value_counts()\n",
    "jlh_serangan = sum(jlh_sampel[1:15])\n",
    "jlh_normal = jlh_sampel[0]\n",
    "print (\"Rasio kelas normal dan serangan setelah 'under sampling'\")\n",
    "print ('========================================================')\n",
    "print (f'jumlah sampel kelas normal dan serangan = {jlh_normal} : {jlh_serangan}' )\n",
    "print (f'Rasio kelas normal dan serangan         = {jlh_normal/jlh_serangan} : 1')"
   ]
  },
  {
   "cell_type": "markdown",
   "id": "73b65459",
   "metadata": {},
   "source": [
    "### Save Dataset CIC-IDS2018 rasio 2:1"
   ]
  },
  {
   "cell_type": "code",
   "execution_count": 8,
   "id": "2f7a122d",
   "metadata": {},
   "outputs": [],
   "source": [
    "dataset = pd.concat([X_layer, y_layer], axis=1)\n",
    "\n",
    "# simpan dataset 2:1 dengan nama CSE_CIC_IDS2018_Praproses_2_1\n",
    "dataset.to_csv(\"G:\\\\Universitas Indonesia\\\\Rancangan Paper\\\\Dataset CSE-CIC-IDS2018-AWS\\\\CIC2018\\\\CSE_CIC_IDS2018_Praproses_2_1.csv\", index=False)"
   ]
  },
  {
   "cell_type": "code",
   "execution_count": null,
   "id": "2760d250",
   "metadata": {},
   "outputs": [],
   "source": []
  }
 ],
 "metadata": {
  "kernelspec": {
   "display_name": "Python 3 (ipykernel)",
   "language": "python",
   "name": "python3"
  },
  "language_info": {
   "codemirror_mode": {
    "name": "ipython",
    "version": 3
   },
   "file_extension": ".py",
   "mimetype": "text/x-python",
   "name": "python",
   "nbconvert_exporter": "python",
   "pygments_lexer": "ipython3",
   "version": "3.9.7"
  }
 },
 "nbformat": 4,
 "nbformat_minor": 5
}
