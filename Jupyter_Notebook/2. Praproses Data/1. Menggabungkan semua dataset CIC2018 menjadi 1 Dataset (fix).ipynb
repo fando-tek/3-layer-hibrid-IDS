{
 "cells": [
  {
   "cell_type": "markdown",
   "id": "46c7d73c",
   "metadata": {},
   "source": [
    "# 1. Menggabungkan semua Dataset CIC-IDS2018 menjadi 1 Dataset baru"
   ]
  },
  {
   "cell_type": "markdown",
   "id": "38213af5",
   "metadata": {},
   "source": [
    "## Import library"
   ]
  },
  {
   "cell_type": "code",
   "execution_count": 1,
   "id": "4fd491de",
   "metadata": {},
   "outputs": [],
   "source": [
    "import glob\n",
    "import os\n",
    "import pandas as pd\n",
    "import time"
   ]
  },
  {
   "cell_type": "markdown",
   "id": "913bfd98",
   "metadata": {},
   "source": [
    "## Tipe dataset yang digunakan"
   ]
  },
  {
   "cell_type": "code",
   "execution_count": 2,
   "id": "7632586b",
   "metadata": {},
   "outputs": [],
   "source": [
    "# Menentukan tipe variabel/fitur untuk mengurangi biaya komputasi\n",
    "tipe_dataset = {'Dst Port': 'uint32','Protocol': 'uint8','Timestamp': 'object','Flow Duration': 'int64',\n",
    "                'Tot Fwd Pkts': 'uint32','Tot Bwd Pkts': 'uint32','TotLen Fwd Pkts': 'uint32',\n",
    "                'TotLen Bwd Pkts': 'uint32','Fwd Pkt Len Max': 'uint16','Fwd Pkt Len Min': 'uint16',\n",
    "                'Fwd Pkt Len Mean': 'float32','Fwd Pkt Len Std': 'float32','Bwd Pkt Len Max': 'uint16',\n",
    "                'Bwd Pkt Len Min': 'uint16','Bwd Pkt Len Mean': 'float32','Bwd Pkt Len Std': 'float32',\n",
    "                'Flow Byts/s': 'float64','Flow Pkts/s': 'float64','Flow IAT Mean': 'float32',\n",
    "                'Flow IAT Std': 'float32','Flow IAT Max': 'int64','Flow IAT Min': 'int64',\n",
    "                'Fwd IAT Tot': 'int64','Fwd IAT Mean': 'float32','Fwd IAT Std': 'float32',\n",
    "                'Fwd IAT Max': 'int64','Fwd IAT Min': 'int64','Bwd IAT Tot': 'uint32','Bwd IAT Mean': 'float32',\n",
    "                'Bwd IAT Std': 'float32','Bwd IAT Max': 'uint32','Bwd IAT Min': 'uint32','Fwd PSH Flags': 'uint8',\n",
    "                'Bwd PSH Flags': 'uint8','Fwd URG Flags': 'uint8','Bwd URG Flags': 'uint8','Fwd Header Len': 'uint32',\n",
    "                'Bwd Header Len': 'uint32','Fwd Pkts/s': 'float32','Bwd Pkts/s': 'float32','Pkt Len Min': 'uint16',\n",
    "                'Pkt Len Max': 'uint16','Pkt Len Mean': 'float32','Pkt Len Std': 'float32','Pkt Len Var': 'float32',\n",
    "                'FIN Flag Cnt': 'uint8','SYN Flag Cnt': 'uint8','RST Flag Cnt': 'uint8','PSH Flag Cnt': 'uint8',\n",
    "                'ACK Flag Cnt': 'uint8','URG Flag Cnt': 'uint8','CWE Flag Count': 'uint8','ECE Flag Cnt': 'uint8',\n",
    "                'Down/Up Ratio': 'uint16','Pkt Size Avg': 'float32','Fwd Seg Size Avg': 'float32',\n",
    "                'Bwd Seg Size Avg': 'float32','Fwd Byts/b Avg': 'uint8','Fwd Pkts/b Avg': 'uint8',\n",
    "                'Fwd Blk Rate Avg': 'uint8','Bwd Byts/b Avg': 'uint8','Bwd Pkts/b Avg': 'uint8',\n",
    "                'Bwd Blk Rate Avg': 'uint8','Subflow Fwd Pkts': 'uint32','Subflow Fwd Byts': 'uint32',\n",
    "                'Subflow Bwd Pkts': 'uint32','Subflow Bwd Byts': 'uint32','Init Fwd Win Byts': 'int32',\n",
    "                'Init Bwd Win Byts': 'int32','Fwd Act Data Pkts': 'uint32','Fwd Seg Size Min': 'uint8',\n",
    "                'Active Mean': 'float32','Active Std': 'float32','Active Max': 'uint32','Active Min': 'uint32',\n",
    "                'Idle Mean': 'float32','Idle Std': 'float32','Idle Max': 'uint64','Idle Min': 'uint64','Label': 'category'}"
   ]
  },
  {
   "cell_type": "code",
   "execution_count": 4,
   "id": "d4460fe9",
   "metadata": {},
   "outputs": [],
   "source": [
    "# fungsi menghapus 'Header' berulang\n",
    "def hapus_header(f):    \n",
    "    return f[f.iloc[:, 0].ne(f.columns[0])]\n",
    "\n",
    "# fungsi mengganti 'infinite' menjadi 'inf'\n",
    "def ganti_infinity(f):\n",
    "    return f.replace('Infinity', 'inf', inplace=True)"
   ]
  },
  {
   "cell_type": "markdown",
   "id": "f9ab5e1f",
   "metadata": {},
   "source": [
    "## Pembersihan data dan penggabungan dataset"
   ]
  },
  {
   "cell_type": "code",
   "execution_count": 3,
   "id": "3dde1872",
   "metadata": {},
   "outputs": [
    {
     "name": "stderr",
     "output_type": "stream",
     "text": [
      "C:\\ProgramData\\Anaconda3\\lib\\site-packages\\IPython\\core\\interactiveshell.py:3444: DtypeWarning: Columns (0,1,3,4,5,6,7,8,9,10,11,12,13,14,15,16,17,18,19,20,21,22,23,24,25,26,27,28,29,30,31,32,33,34,35,36,37,38,39,40,41,42,43,44,45,46,47,48,49,50,51,52,53,54,55,56,57,58,59,60,61,62,63,64,65,66,67,68,69,70,71,72,73,74,75,76,77,78) have mixed types.Specify dtype option on import or set low_memory=False.\n",
      "  exec(code_obj, self.user_global_ns, self.user_ns)\n"
     ]
    },
    {
     "name": "stdout",
     "output_type": "stream",
     "text": [
      "training time :  1100.9620959758759\n"
     ]
    }
   ],
   "source": [
    "m_gabung = time.time()\n",
    "\n",
    "# 10 dataset CIC-IDS2018\n",
    "data_csv = ['bot_02-03-2018.csv',\n",
    "             'dos-slowhttp-hulk_16-02-2018.csv',\n",
    "             'bruteforce-web-xss_sql-injection_23-02-2018.csv',\n",
    "             'ddos-loic-http-loic-udp_20-02-2018.csv',\n",
    "             'infiltration_01-03-2018.csv',\n",
    "             'dos-goldeneye-slowloris_15-02-2018.csv',\n",
    "             'bruteforce-web-xss_sql-injection_22-02-2018.csv',\n",
    "             'bruteforce-ftp-ssh_14-02-2018.csv',\n",
    "             'ddos-loic-udp_hoic_21-02-2018.csv',\n",
    "             'infiltration_28-02-2018.csv']\n",
    "\n",
    "# direktori tempat dataset CIC-IDS2018 disimpan\n",
    "path = 'G:\\\\Universitas Indonesia\\\\Rancangan Paper\\\\Dataset CSE-CIC-IDS2018-AWS'\n",
    "semua_data = glob.glob(path + \"/*.csv\")\n",
    "proses_dir = 'CIC2018_proses'\n",
    "proses_path = os.path.join(path, proses_dir)\n",
    "\n",
    "if not os.path.exists(proses_path):\n",
    "    os.mkdir(proses_path) \n",
    "   \n",
    "cic2018 = []\n",
    "for nama_file, data_out in zip(semua_data, data_csv):\n",
    "    df = pd.read_csv(nama_file, index_col=None, header=0)\n",
    "    header = df['Protocol'].value_counts()\n",
    "    if header.index[-1] == 'Protocol':\n",
    "        df = hapus_header(df)\n",
    "        \n",
    "    ganti_infinity(df)\n",
    "    output_path = os.path.join(path, proses_dir, data_out)\n",
    "    \n",
    "    # merubah tipe variabel dataset\n",
    "    df = df.astype(tipe_dataset) \n",
    "    \n",
    "    # simpan dataset\n",
    "    df.to_csv(output_path, index=False) \n",
    "    cic2018.append(df)\n",
    "    \n",
    "# Menggabungkan 10 dataset menjadi 1 dataset dan simpan\n",
    "dataset = pd.concat(cic2018, ignore_index=True)\n",
    "dataset.to_csv(\"G:\\\\Universitas Indonesia\\\\Rancangan Paper\\\\Dataset CSE-CIC-IDS2018-AWS\\\\CIC2018\\\\CIC2018.csv\", index=False)\n",
    "\n",
    "s_gabung = time.time()\n",
    "print ('lama waktu penggabungan dataset : ', s_gabung - m_gabung)"
   ]
  }
 ],
 "metadata": {
  "kernelspec": {
   "display_name": "Python 3",
   "language": "python",
   "name": "python3"
  },
  "language_info": {
   "codemirror_mode": {
    "name": "ipython",
    "version": 3
   },
   "file_extension": ".py",
   "mimetype": "text/x-python",
   "name": "python",
   "nbconvert_exporter": "python",
   "pygments_lexer": "ipython3",
   "version": "3.8.8"
  }
 },
 "nbformat": 4,
 "nbformat_minor": 5
}
